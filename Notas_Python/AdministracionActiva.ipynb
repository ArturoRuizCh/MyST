{
 "cells": [
  {
   "cell_type": "code",
   "execution_count": 1,
   "metadata": {},
   "outputs": [],
   "source": [
    "import pandas as pd\n",
    "from oandapyV20 import API\n",
    "import oandapyV20.endpoints.pricing as pricing\n",
    "import oandapyV20.endpoints.instruments as instruments"
   ]
  },
  {
   "cell_type": "code",
   "execution_count": 2,
   "metadata": {
    "collapsed": true
   },
   "outputs": [],
   "source": [
    "A1_OA_Da = 17                     # Day Align\n",
    "A1_OA_Ta = \"America/Mexico_City\"  # Time Align\n",
    "\n",
    "A1_OA_Ai = \"101-004-2221697-001\"  # Id de cuenta\n",
    "A1_OA_At = \"practice\"             # Tipo de cuenta\n",
    "\n",
    "A1_OA_In = \"EUR_USD\"              # Instrumento\n",
    "A1_OA_Gn = \"H1\"                   # Granularidad de velas\n",
    "\n",
    "A1_OA_Ak = \"a\"+ \"da4a61b0d5bc0e5939365e01450b614\" + \"-4121f84f01ad78942c46fc3ac777baa\" + \"6\"\n",
    "\n",
    "F1 = \"2017-01-01T00:00:00Z\"\n",
    "F2 = \"2017-02-01T00:00:00Z\""
   ]
  },
  {
   "cell_type": "code",
   "execution_count": 3,
   "metadata": {},
   "outputs": [],
   "source": [
    "api = API(access_token=A1_OA_Ak) "
   ]
  },
  {
   "cell_type": "code",
   "execution_count": 4,
   "metadata": {},
   "outputs": [],
   "source": [
    "params={\"granularity\": A1_OA_Gn, \"price\": \"M\", \"dailyAlignment\": A1_OA_Da, \"alignmentTimezone\": A1_OA_Ta,\n",
    "        \"from\": F1, \"to\": F2}\n",
    "\n",
    "A1_Req1 = instruments.InstrumentsCandles(instrument=A1_OA_In, params=params)\n",
    "A1_Hist = api.request(A1_Req1)"
   ]
  },
  {
   "cell_type": "code",
   "execution_count": 5,
   "metadata": {},
   "outputs": [],
   "source": [
    "lista = []\n",
    "for i in range(len(A1_Hist['candles'])-1):\n",
    "        lista.append({'TimeStamp': A1_Hist['candles'][i]['time'], 'Open': A1_Hist['candles'][i]['mid']['o'],\n",
    "                      'High': A1_Hist['candles'][i]['mid']['h'], 'Low': A1_Hist['candles'][i]['mid']['l'],\n",
    "                      'Close': A1_Hist['candles'][i]['mid']['c']})\n",
    "\n",
    "pd_hist = pd.DataFrame(lista)\n",
    "pd_hist = pd_hist[['TimeStamp', 'Open', 'High', 'Low', 'Close']]\n",
    "pd_hist['TimeStamp'] = pd.to_datetime(pd_hist['TimeStamp'])"
   ]
  },
  {
   "cell_type": "code",
   "execution_count": 6,
   "metadata": {},
   "outputs": [
    {
     "data": {
      "text/html": [
       "<div>\n",
       "<style scoped>\n",
       "    .dataframe tbody tr th:only-of-type {\n",
       "        vertical-align: middle;\n",
       "    }\n",
       "\n",
       "    .dataframe tbody tr th {\n",
       "        vertical-align: top;\n",
       "    }\n",
       "\n",
       "    .dataframe thead th {\n",
       "        text-align: right;\n",
       "    }\n",
       "</style>\n",
       "<table border=\"1\" class=\"dataframe\">\n",
       "  <thead>\n",
       "    <tr style=\"text-align: right;\">\n",
       "      <th></th>\n",
       "      <th>TimeStamp</th>\n",
       "      <th>Open</th>\n",
       "      <th>High</th>\n",
       "      <th>Low</th>\n",
       "      <th>Close</th>\n",
       "    </tr>\n",
       "  </thead>\n",
       "  <tbody>\n",
       "    <tr>\n",
       "      <th>0</th>\n",
       "      <td>2017-01-02 23:00:00</td>\n",
       "      <td>1.04684</td>\n",
       "      <td>1.04711</td>\n",
       "      <td>1.04567</td>\n",
       "      <td>1.04575</td>\n",
       "    </tr>\n",
       "    <tr>\n",
       "      <th>1</th>\n",
       "      <td>2017-01-03 00:00:00</td>\n",
       "      <td>1.04577</td>\n",
       "      <td>1.04712</td>\n",
       "      <td>1.04572</td>\n",
       "      <td>1.04662</td>\n",
       "    </tr>\n",
       "    <tr>\n",
       "      <th>2</th>\n",
       "      <td>2017-01-03 01:00:00</td>\n",
       "      <td>1.04665</td>\n",
       "      <td>1.04808</td>\n",
       "      <td>1.04646</td>\n",
       "      <td>1.04758</td>\n",
       "    </tr>\n",
       "    <tr>\n",
       "      <th>3</th>\n",
       "      <td>2017-01-03 02:00:00</td>\n",
       "      <td>1.04761</td>\n",
       "      <td>1.04780</td>\n",
       "      <td>1.04709</td>\n",
       "      <td>1.04721</td>\n",
       "    </tr>\n",
       "    <tr>\n",
       "      <th>4</th>\n",
       "      <td>2017-01-03 03:00:00</td>\n",
       "      <td>1.04718</td>\n",
       "      <td>1.04848</td>\n",
       "      <td>1.04715</td>\n",
       "      <td>1.04848</td>\n",
       "    </tr>\n",
       "  </tbody>\n",
       "</table>\n",
       "</div>"
      ],
      "text/plain": [
       "            TimeStamp     Open     High      Low    Close\n",
       "0 2017-01-02 23:00:00  1.04684  1.04711  1.04567  1.04575\n",
       "1 2017-01-03 00:00:00  1.04577  1.04712  1.04572  1.04662\n",
       "2 2017-01-03 01:00:00  1.04665  1.04808  1.04646  1.04758\n",
       "3 2017-01-03 02:00:00  1.04761  1.04780  1.04709  1.04721\n",
       "4 2017-01-03 03:00:00  1.04718  1.04848  1.04715  1.04848"
      ]
     },
     "execution_count": 6,
     "metadata": {},
     "output_type": "execute_result"
    }
   ],
   "source": [
    "pd_hist.head() "
   ]
  },
  {
   "cell_type": "code",
   "execution_count": null,
   "metadata": {},
   "outputs": [],
   "source": []
  }
 ],
 "metadata": {
  "kernelspec": {
   "display_name": "Python 3",
   "language": "python",
   "name": "python3"
  },
  "language_info": {
   "codemirror_mode": {
    "name": "ipython",
    "version": 3
   },
   "file_extension": ".py",
   "mimetype": "text/x-python",
   "name": "python",
   "nbconvert_exporter": "python",
   "pygments_lexer": "ipython3",
   "version": "3.7.0"
  }
 },
 "nbformat": 4,
 "nbformat_minor": 2
}
