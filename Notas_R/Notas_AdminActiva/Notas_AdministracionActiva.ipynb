{
 "cells": [
  {
   "cell_type": "markdown",
   "metadata": {},
   "source": [
    "# Microestructura y Sistemas de Trading"
   ]
  },
  {
   "cell_type": "markdown",
   "metadata": {},
   "source": [
    "## Notas de Administracion Activa"
   ]
  },
  {
   "cell_type": "code",
   "execution_count": null,
   "metadata": {},
   "outputs": [],
   "source": [
    "# Remover todos los objetos del \"Environment\"\n",
    "rm(list = ls())\n",
    "\n",
    "# los 0s aceptados antes de expresas una cifra en notaci?n cient?fica\n",
    "options(\"scipen\"=100, \"digits\"=4)\n",
    "\n",
    "# Cargas librer?as a utilizar\n",
    "#suppressMessages(library(Quandl)) # Descargar Precios\n",
    "#suppressMessages(library(ROI))    # Optimizacion para portafolio\n",
    "#suppressMessages(library(knitr))  # Opciones de documentaci?n + c?digo\n",
    "#suppressMessages(library(xlsx))   # Leer archivos XLSx\n",
    "#suppressMessages(library(kableExtra)) # Tablas en HTML\n",
    "#suppressMessages(library(PortfolioAnalytics)) # Teor?a Moderna de Portafolios\n",
    "\n",
    "options(knitr.table.format = \"html\")"
   ]
  },
  {
   "cell_type": "code",
   "execution_count": null,
   "metadata": {},
   "outputs": [],
   "source": [
    "tk <- as.data.frame(read.csv(file = \"IAK_holdings.csv\",header = FALSE, sep = \",\"))\n",
    "cs <- c(\"date\", \"adj_close\")"
   ]
  },
  {
   "cell_type": "code",
   "execution_count": null,
   "metadata": {},
   "outputs": [],
   "source": [
    "class(tk)"
   ]
  },
  {
   "cell_type": "code",
   "execution_count": null,
   "metadata": {},
   "outputs": [],
   "source": [
    "tk"
   ]
  },
  {
   "cell_type": "code",
   "execution_count": null,
   "metadata": {},
   "outputs": [],
   "source": [
    "    "
   ]
  }
 ],
 "metadata": {
  "kernelspec": {
   "display_name": "R",
   "language": "R",
   "name": "ir"
  },
  "language_info": {
   "codemirror_mode": "r",
   "file_extension": ".r",
   "mimetype": "text/x-r-source",
   "name": "R",
   "pygments_lexer": "r",
   "version": "3.4.4"
  }
 },
 "nbformat": 4,
 "nbformat_minor": 2
}
